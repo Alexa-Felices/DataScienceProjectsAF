{
  "metadata": {
    "kernelspec": {
      "name": "python",
      "display_name": "Python (Pyodide)",
      "language": "python"
    },
    "language_info": {
      "codemirror_mode": {
        "name": "python",
        "version": 3
      },
      "file_extension": ".py",
      "mimetype": "text/x-python",
      "name": "python",
      "nbconvert_exporter": "python",
      "pygments_lexer": "ipython3",
      "version": "3.8"
    }
  },
  "nbformat_minor": 4,
  "nbformat": 4,
  "cells": [
    {
      "cell_type": "markdown",
      "source": "# Visualization of Infant, Neonatal, Postneonatal, Fetal, and Perinatal Mortality from 1983 to 2018\nThis is an interactive visualization of the data located at https://catalog.data.gov/dataset/infant-neonatal-postneonatal-fetal-and-perinatal-mortality-rates-by-detailed-race-and-hisp-016ed .\nIt includes step-by-step instructions for building said visualization.",
      "metadata": {}
    },
    {
      "cell_type": "markdown",
      "source": "First, we import necessary libraries for python, and check our data header.",
      "metadata": {}
    },
    {
      "cell_type": "code",
      "source": "# Import our data processing library\nimport pandas as pd\nimport io\nimport requests\n\n# Use to read in dataset from above website\nurl = \"https://data.cdc.gov/api/views/nfuu-hu6j/rows.csv?accessType=DOWNLOAD\"\ncontent = requests.get(url).content\ndf = pd.read_csv(io.StringIO(content.decode('utf-8')))\n\n# Import altair to visualize data\nimport altair as alt\n\ndf.head()",
      "metadata": {
        "trusted": true
      },
      "outputs": [
        {
          "execution_count": 285,
          "output_type": "execute_result",
          "data": {
            "text/plain": "                                           INDICATOR  INDICATOR_NUM  \\\n0  Infant, neonatal, postneonatal, fetal, and per...              1   \n1  Infant, neonatal, postneonatal, fetal, and per...              1   \n2  Infant, neonatal, postneonatal, fetal, and per...              1   \n3  Infant, neonatal, postneonatal, fetal, and per...              1   \n4  Infant, neonatal, postneonatal, fetal, and per...              1   \n\n                                  UNIT  UNIT_NUM STUB_NAME  STUB_NAME_NUM  \\\n0  Infant deaths per 1,000 live births         1     Total              0   \n1  Infant deaths per 1,000 live births         1     Total              0   \n2  Infant deaths per 1,000 live births         1     Total              0   \n3  Infant deaths per 1,000 live births         1     Total              0   \n4  Infant deaths per 1,000 live births         1     Total              0   \n\n    STUB_LABEL  STUB_LABEL_NUM  YEAR  YEAR_NUM  ESTIMATE FLAG  \n0  All mothers             0.1  1983         1      10.9  NaN  \n1  All mothers             0.1  1985         2      10.4  NaN  \n2  All mothers             0.1  1990         3       8.9  NaN  \n3  All mothers             0.1  1995         4       7.6  NaN  \n4  All mothers             0.1  1996         5       7.3  NaN  ",
            "text/html": "<div>\n<style scoped>\n    .dataframe tbody tr th:only-of-type {\n        vertical-align: middle;\n    }\n\n    .dataframe tbody tr th {\n        vertical-align: top;\n    }\n\n    .dataframe thead th {\n        text-align: right;\n    }\n</style>\n<table border=\"1\" class=\"dataframe\">\n  <thead>\n    <tr style=\"text-align: right;\">\n      <th></th>\n      <th>INDICATOR</th>\n      <th>INDICATOR_NUM</th>\n      <th>UNIT</th>\n      <th>UNIT_NUM</th>\n      <th>STUB_NAME</th>\n      <th>STUB_NAME_NUM</th>\n      <th>STUB_LABEL</th>\n      <th>STUB_LABEL_NUM</th>\n      <th>YEAR</th>\n      <th>YEAR_NUM</th>\n      <th>ESTIMATE</th>\n      <th>FLAG</th>\n    </tr>\n  </thead>\n  <tbody>\n    <tr>\n      <th>0</th>\n      <td>Infant, neonatal, postneonatal, fetal, and per...</td>\n      <td>1</td>\n      <td>Infant deaths per 1,000 live births</td>\n      <td>1</td>\n      <td>Total</td>\n      <td>0</td>\n      <td>All mothers</td>\n      <td>0.1</td>\n      <td>1983</td>\n      <td>1</td>\n      <td>10.9</td>\n      <td>NaN</td>\n    </tr>\n    <tr>\n      <th>1</th>\n      <td>Infant, neonatal, postneonatal, fetal, and per...</td>\n      <td>1</td>\n      <td>Infant deaths per 1,000 live births</td>\n      <td>1</td>\n      <td>Total</td>\n      <td>0</td>\n      <td>All mothers</td>\n      <td>0.1</td>\n      <td>1985</td>\n      <td>2</td>\n      <td>10.4</td>\n      <td>NaN</td>\n    </tr>\n    <tr>\n      <th>2</th>\n      <td>Infant, neonatal, postneonatal, fetal, and per...</td>\n      <td>1</td>\n      <td>Infant deaths per 1,000 live births</td>\n      <td>1</td>\n      <td>Total</td>\n      <td>0</td>\n      <td>All mothers</td>\n      <td>0.1</td>\n      <td>1990</td>\n      <td>3</td>\n      <td>8.9</td>\n      <td>NaN</td>\n    </tr>\n    <tr>\n      <th>3</th>\n      <td>Infant, neonatal, postneonatal, fetal, and per...</td>\n      <td>1</td>\n      <td>Infant deaths per 1,000 live births</td>\n      <td>1</td>\n      <td>Total</td>\n      <td>0</td>\n      <td>All mothers</td>\n      <td>0.1</td>\n      <td>1995</td>\n      <td>4</td>\n      <td>7.6</td>\n      <td>NaN</td>\n    </tr>\n    <tr>\n      <th>4</th>\n      <td>Infant, neonatal, postneonatal, fetal, and per...</td>\n      <td>1</td>\n      <td>Infant deaths per 1,000 live births</td>\n      <td>1</td>\n      <td>Total</td>\n      <td>0</td>\n      <td>All mothers</td>\n      <td>0.1</td>\n      <td>1996</td>\n      <td>5</td>\n      <td>7.3</td>\n      <td>NaN</td>\n    </tr>\n  </tbody>\n</table>\n</div>"
          },
          "metadata": {}
        }
      ],
      "execution_count": 285
    },
    {
      "cell_type": "markdown",
      "source": "Looking at the data header, we will need to sort the columns in order to have a useful format for visualization.",
      "metadata": {}
    },
    {
      "cell_type": "code",
      "source": "# Filter out duplicate values, outliers, and null values\nnewdf = df.loc[~df['STUB_NAME'].isin(['Race (Single race)','Race and Hispanic origin (Single race)'])]\nfindf = newdf.loc[~df['STUB_LABEL'].isin(['American Indian or Alaska Native', 'Asian or Pacific Islander', 'Black or African American', 'White',\n                                          'Not Hispanic or Latina: Asian','Not Hispanic or Latina: Native Hawaiian or Other Pacific Islander'])]\nfindf = findf.loc[~df['UNIT'].isin(['Late fetal deaths per 1,000 live births plus late fetal deaths', 'Neonatal deaths per 1,000 live births', \n                                    'Perinatal deaths per 1,000 live births plus late fetal deaths', 'Postneonatal deaths per 1,000 live births'])]\n\n# Clean up labeling for clarity\nfindf = findf.rename(columns={'YEAR':'Year','STUB_LABEL':'Demographics','ESTIMATE':'Estimate','UNIT':'Type'})",
      "metadata": {
        "trusted": true
      },
      "outputs": [],
      "execution_count": null
    },
    {
      "cell_type": "markdown",
      "source": "Now we can build our visualization, cleaning up the data along the way.",
      "metadata": {}
    },
    {
      "cell_type": "code",
      "source": "# Implementing a dropdown search\ndropdown = alt.binding_select(options=findf[\"Demographics\"].unique(), name=\"Select a demographic:  \")\n\n# Implementing selection\nselection = alt.selection_point(fields=['Demographics'], on='click', bind=dropdown)\n\n# Generate trends over time for each race and ethnic group\nfindf['Year'] = findf['Year'].astype(str)\nallracePlot = alt.Chart(findf, height=500, width=600).mark_circle(size=100).encode(\n    x = \"Year:T\",\n    y = alt.Y(\"mean(Estimate)\", axis=alt.Axis(title='Est. Average Fetal and Infant Deaths')),\n    color = alt.Color(\"Demographics\", legend=alt.Legend(orient='left', titleFontSize=20, labelFontSize=15, labelLimit=500), scale=alt.Scale(scheme='tableau10')),\n    tooltip = [\"Demographics\", \"mean(Estimate)\"],\n    opacity = alt.condition(selection, alt.value(1), alt.value(.2))\n).add_params(selection)\n\n# Create detail plot of the data\ngeneralracePlot = alt.Chart(findf, height=600, width=450).mark_bar().encode(\n    y = alt.Y('Type', axis=alt.Axis(labelExpr=\"substring(datum.label, 0, indexof(datum.label, ' '))\")),\n    x = alt.X('mean(Estimate)', axis=alt.Axis(title='Avg. Deaths from 1983-2018'))\n).transform_filter(selection).properties(height=250, width=350)\n\n# Concatenate so that the detail plot is linked to the main scatter plot\n(allracePlot | generalracePlot).properties(\n    title=alt.TitleParams('Reported U.S. Infant and Fetal Deaths per 1,000 Live Births', anchor='middle', fontSize=35)\n).configure_axis(\n    labelFontSize=12,\n    titleFontSize=20\n)",
      "metadata": {
        "trusted": true
      },
      "outputs": [],
      "execution_count": 304
    }
  ]
}